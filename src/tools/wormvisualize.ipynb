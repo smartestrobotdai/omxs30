{
 "cells": [
  {
   "cell_type": "code",
   "execution_count": null,
   "metadata": {},
   "outputs": [],
   "source": [
    "import sys\n",
    "import os.path\n",
    "from os import listdir\n",
    "from os.path import isdir, join, isfile\n",
    "sys.path.append(\"../\")\n",
    "from stockworm import StockWorm\n",
    "from util import *\n",
    "from stockwormmanager import StockWormManager\n",
    "from stockworm import StockWorm\n"
   ]
  },
  {
   "cell_type": "code",
   "execution_count": null,
   "metadata": {
    "scrolled": true
   },
   "outputs": [],
   "source": [
    "npy_path = get_preprocessed_data_dir()\n",
    "stock_worm2 = StockWorm('HM-B', 992, npy_path, '/home/ken/git/omxs30/stock-data/AZN_3524/0-100/models/3a05d03f9e1edd15')\n",
    "stock_worm2.load()\n",
    "#stock_worm2.plot()\n",
    "\n",
    "\n",
    "stock_worm2.report()\n"
   ]
  },
  {
   "cell_type": "code",
   "execution_count": null,
   "metadata": {},
   "outputs": [],
   "source": [
    "stock_worm2.test(verbose=True)"
   ]
  },
  {
   "cell_type": "code",
   "execution_count": null,
   "metadata": {
    "scrolled": true
   },
   "outputs": [],
   "source": [
    "stock_worm2.plot()"
   ]
  },
  {
   "cell_type": "code",
   "execution_count": null,
   "metadata": {},
   "outputs": [],
   "source": [
    "stock_worm2.daily_plot()"
   ]
  },
  {
   "cell_type": "code",
   "execution_count": null,
   "metadata": {},
   "outputs": [],
   "source": []
  }
 ],
 "metadata": {
  "kernelspec": {
   "display_name": "Python 3",
   "language": "python",
   "name": "python3"
  },
  "language_info": {
   "codemirror_mode": {
    "name": "ipython",
    "version": 3
   },
   "file_extension": ".py",
   "mimetype": "text/x-python",
   "name": "python",
   "nbconvert_exporter": "python",
   "pygments_lexer": "ipython3",
   "version": "3.6.8"
  }
 },
 "nbformat": 4,
 "nbformat_minor": 2
}
