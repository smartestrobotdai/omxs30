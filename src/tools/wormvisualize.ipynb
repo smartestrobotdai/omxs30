{
 "cells": [
  {
   "cell_type": "code",
   "execution_count": null,
   "metadata": {},
   "outputs": [],
   "source": [
    "import sys\n",
    "import os.path\n",
    "from os import listdir\n",
    "from os.path import isdir, join, isfile\n",
    "sys.path.append(\"../\")\n",
    "from stockworm import StockWorm\n",
    "from util import *\n",
    "from stockwormmanager import StockWormManager\n"
   ]
  },
  {
   "cell_type": "code",
   "execution_count": null,
   "metadata": {},
   "outputs": [],
   "source": [
    "test_stock_names = ['NDA-SE', 'AZN', 'HM-B']"
   ]
  },
  {
   "cell_type": "code",
   "execution_count": null,
   "metadata": {},
   "outputs": [],
   "source": [
    "# load all models\n",
    "worm_manager_list = []\n",
    "stock_data_dir = get_stock_data_dir()\n",
    "preprocessed_data_dir = get_preprocessed_data_dir()\n",
    "for stock_name in test_stock_names:\n",
    "    stock_id = get_stock_id_by_name(stock_name)\n",
    "    stock_worm_manager = StockWormManager(stock_name, stock_data_dir, preprocessed_data_dir)\n",
    "    \n",
    "    stock_worm_manager.update_worms_from_cache(n_number=3, \n",
    "                                start_day_index=0, \n",
    "                                end_day_index=80)\n",
    "    \n",
    "    stock_worm_manager.test()\n",
    "\n",
    "    worm_manager_list.append(stock_worm_manager)\n",
    "\n"
   ]
  },
  {
   "cell_type": "code",
   "execution_count": null,
   "metadata": {},
   "outputs": [],
   "source": [
    "for worm in worm_list:\n",
    "    worm.plot()"
   ]
  },
  {
   "cell_type": "code",
   "execution_count": null,
   "metadata": {},
   "outputs": [],
   "source": [
    "for worm in worm_list:\n",
    "    worm.plot_date('190610')"
   ]
  },
  {
   "cell_type": "code",
   "execution_count": null,
   "metadata": {},
   "outputs": [],
   "source": [
    "for worm in worm_list:\n",
    "    worm.report()"
   ]
  },
  {
   "cell_type": "code",
   "execution_count": null,
   "metadata": {},
   "outputs": [],
   "source": []
  }
 ],
 "metadata": {
  "kernelspec": {
   "display_name": "Python 3",
   "language": "python",
   "name": "python3"
  },
  "language_info": {
   "codemirror_mode": {
    "name": "ipython",
    "version": 3
   },
   "file_extension": ".py",
   "mimetype": "text/x-python",
   "name": "python",
   "nbconvert_exporter": "python",
   "pygments_lexer": "ipython3",
   "version": "3.6.7"
  }
 },
 "nbformat": 4,
 "nbformat_minor": 2
}
