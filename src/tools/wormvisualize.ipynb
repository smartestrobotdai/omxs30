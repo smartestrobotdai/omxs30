{
 "cells": [
  {
   "cell_type": "code",
   "execution_count": null,
   "metadata": {},
   "outputs": [],
   "source": [
    "import sys\n",
    "import os.path\n",
    "from os import listdir\n",
    "from os.path import isdir, join, isfile\n",
    "sys.path.append(\"../\")\n",
    "from stockworm import StockWorm\n",
    "from util import *\n",
    "from stockwormmanager import StockWormManager\n",
    "from stockworm import StockWorm\n"
   ]
  },
  {
   "cell_type": "code",
   "execution_count": null,
   "metadata": {
    "scrolled": true
   },
   "outputs": [],
   "source": [
    "stock_name = \"F-RB\"\n",
    "model_name = \"d1cc6a6c5d3f2f18\"\n",
    "\n",
    "if stock_name[:2] == \"F-\":\n",
    "    is_future = True\n",
    "else:\n",
    "    is_future = False\n",
    "    \n",
    "stock_id = get_stock_id_by_name(stock_name)\n",
    "\n",
    "npy_path = get_preprocessed_data_dir()\n",
    "swarm_path = get_swarm_dir(stock_name, stock_id, 0, 450)\n",
    "model_path = os.path.join(swarm_path, \"models\" , model_name)\n",
    "\n",
    "\n",
    "stock_worm2 = StockWorm(stock_name, 800001, npy_path, model_path, is_future=is_future)\n",
    "stock_worm2.load()\n",
    "#stock_worm2.plot()\n",
    "\n",
    "\n",
    "stock_worm2.report()\n"
   ]
  },
  {
   "cell_type": "code",
   "execution_count": null,
   "metadata": {},
   "outputs": [],
   "source": [
    "stock_worm2.test(verbose=True)"
   ]
  },
  {
   "cell_type": "code",
   "execution_count": null,
   "metadata": {},
   "outputs": [],
   "source": [
    "stock_worm2.plot()"
   ]
  },
  {
   "cell_type": "code",
   "execution_count": null,
   "metadata": {},
   "outputs": [],
   "source": [
    "stock_worm2.daily_plot()"
   ]
  },
  {
   "cell_type": "code",
   "execution_count": null,
   "metadata": {},
   "outputs": [],
   "source": []
  }
 ],
 "metadata": {
  "kernelspec": {
   "display_name": "Python 3",
   "language": "python",
   "name": "python3"
  },
  "language_info": {
   "codemirror_mode": {
    "name": "ipython",
    "version": 3
   },
   "file_extension": ".py",
   "mimetype": "text/x-python",
   "name": "python",
   "nbconvert_exporter": "python",
   "pygments_lexer": "ipython3",
   "version": "3.6.8"
  }
 },
 "nbformat": 4,
 "nbformat_minor": 2
}
