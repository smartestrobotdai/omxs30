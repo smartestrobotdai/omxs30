{
 "cells": [
  {
   "cell_type": "code",
   "execution_count": null,
   "metadata": {},
   "outputs": [],
   "source": [
    "import psycopg2\n",
    "import sys\n",
    "import os.path\n",
    "sys.path.append(\"../\")\n",
    "from util import *\n",
    "from datetime import datetime, date\n",
    "import time"
   ]
  },
  {
   "cell_type": "code",
   "execution_count": null,
   "metadata": {},
   "outputs": [],
   "source": [
    "try:\n",
    "    conn = connect_postgres()\n",
    "except (Exception, psycopg2.DatabaseError) as error:\n",
    "    print(error)\n",
    "    sys.exit()"
   ]
  },
  {
   "cell_type": "code",
   "execution_count": null,
   "metadata": {},
   "outputs": [],
   "source": [
    "start_timestamp = None\n",
    "start_datetime = None\n",
    "days = 7\n",
    "cursor = conn.cursor()\n",
    "if days == 1:\n",
    "    # To get the start time for 1 day\n",
    "    \n",
    "    query = \"SELECT time_stamp FROM minute ORDER BY time_stamp DESC LIMIT 1\"\n",
    "    cursor.execute(query)\n",
    "    latest_time = cursor.fetchall()[0][0]\n",
    "\n",
    "    start_datetime = datetime(latest_time.year, latest_time.month, latest_time.day, 0, 0)\n",
    "    start_timestamp = str(int(start_datetime.timestamp()))\n",
    "elif days == 7:\n",
    "    t = datetime.fromtimestamp(time.time() - 7*24*3600)\n",
    "    start_datetime = datetime(t.year, t.month, t.day, 0, 0)\n",
    "    start_timestamp = str(int(start_datetime.timestamp()))\n",
    "elif days == 31:\n",
    "    t = datetime.fromtimestamp(time.time() - 31*24*3600)\n",
    "    start_datetime = datetime(t.year, t.month, t.day, 0, 0)\n",
    "    start_timestamp = str(int(start_datetime.timestamp()))"
   ]
  },
  {
   "cell_type": "code",
   "execution_count": null,
   "metadata": {},
   "outputs": [],
   "source": [
    "\n",
    "query = \"SELECT stock_id, time_stamp, transaction FROM transactions WHERE time_stamp > to_timestamp({})\".format(start_timestamp)\n",
    "cursor.execute(query)\n",
    "transactions = cursor.fetchall()\n",
    "\n"
   ]
  },
  {
   "cell_type": "code",
   "execution_count": null,
   "metadata": {},
   "outputs": [],
   "source": [
    "stock_ids = list(map(lambda x: int(x[0]), transactions))\n",
    "stock_ids = list(dict.fromkeys(stock_ids))\n",
    "stock_ids = ','.join('\\'' + str(e) + '\\'' for e in stock_ids + [0])\n",
    "stock_ids =  '(' + stock_ids + ')'\n"
   ]
  },
  {
   "cell_type": "code",
   "execution_count": null,
   "metadata": {},
   "outputs": [],
   "source": [
    "query = \"SELECT time_stamp, stock_id, last FROM minute WHERE stock_id IN {} AND time_stamp > to_timestamp(%s)\".format(stock_ids)"
   ]
  },
  {
   "cell_type": "code",
   "execution_count": null,
   "metadata": {},
   "outputs": [],
   "source": [
    "cursor.execute(query, (str(start_timestamp),))\n",
    "stock_data = cursor.fetchall() "
   ]
  },
  {
   "cell_type": "code",
   "execution_count": null,
   "metadata": {},
   "outputs": [],
   "source": [
    "df = pd.DataFrame(stock_data, columns=['timestamp','stock_id','price'])\n",
    "df['timestamp'] = df['timestamp'].dt.tz_convert('Europe/Stockholm')"
   ]
  },
  {
   "cell_type": "code",
   "execution_count": null,
   "metadata": {},
   "outputs": [],
   "source": [
    "groups = df.groupby('stock_id')"
   ]
  },
  {
   "cell_type": "code",
   "execution_count": null,
   "metadata": {},
   "outputs": [],
   "source": [
    "all_df = {}\n",
    "for stock_id, df in groups:\n",
    "    all_df[stock_id] = None\n",
    "    df['day'] = df['timestamp'].apply(lambda x: \"{}-{:02d}-{:02d}\".format(x.year, x.month, x.day))\n",
    "    groups_day = df.groupby('day')\n",
    "    \n",
    "    for day, df_day in groups_day:\n",
    "        start_ts = df_day['timestamp'].iloc[0]\n",
    "        open_price = df_day['price'].iloc[0]\n",
    "        \n",
    "        if start_ts.hour != 9 or start_ts.minute != 0:\n",
    "            print(\"Stock: {} day: {} started at: {}\".format(stock_id, day, start_ts))\n",
    "            time_str = \"{}-{}-{} 09:00:00\".format(start_ts.year, start_ts.month, start_ts.day)\n",
    "            \n",
    "            ts_9 = pd.Timestamp(time_str, tz='Europe/Stockholm')\n",
    "            print(df_day.columns.tolist())\n",
    "            new_record = pd.DataFrame([[ts_9, stock_id, open_price, day]], columns=df_day.columns.tolist())\n",
    "            df_day = pd.concat([new_record, df_day], axis=0)\n",
    "            print(df_day)\n",
    "        all_df[stock_id] = pd.concat([all_df[stock_id], df_day], axis=0)\n",
    "        \n",
    "    \n",
    "    all_df[stock_id]['diff'] = all_df[stock_id]['price'].diff().fillna(0) / all_df[stock_id]['price'].shift(-1)\n",
    "    all_df[stock_id]['diff'] = all_df[stock_id]['diff'].fillna(0)\n",
    "    all_df[stock_id] = all_df[stock_id].set_index('timestamp')\n",
    "    "
   ]
  },
  {
   "cell_type": "code",
   "execution_count": null,
   "metadata": {},
   "outputs": [],
   "source": [
    "omxs = all_df['0']\n",
    "\n",
    "def get_ts_at_beginning(t):\n",
    "    timestr = \"{}-{}-{} 09:00:00\".format(t.year, t.month, t.day)\n",
    "    return pd.Timestamp(timestr, tz='Europe/Stockholm')\n",
    "    \n",
    "\n",
    "grouped = all_df['0'].groupby(get_ts_at_beginning)\n",
    "\n",
    "result_df=None\n",
    "for key, df in grouped:\n",
    "    dti = pd.date_range(key, periods=511, freq='min').to_series(keep_tz=True)\n",
    "    if result_df is None:\n",
    "        result_df = pd.DataFrame(dti, columns=['timestamp']).reset_index(drop=True)\n",
    "    else:\n",
    "        new_df = pd.DataFrame(dti, columns=['timestamp']).reset_index(drop=True)\n",
    "        result_df = result_df.append(new_df)\n",
    "\n",
    "result_df['diff'] = 0\n",
    "result_df = result_df.set_index('timestamp')\n",
    "    "
   ]
  },
  {
   "cell_type": "code",
   "execution_count": null,
   "metadata": {},
   "outputs": [],
   "source": [
    "trans_arr = []\n",
    "for i in range(0, len(transactions), 2):\n",
    "    stock_id = transactions[i][0]\n",
    "    buy_time = transactions[i][1]\n",
    "    sell_time = transactions[i+1][1]\n",
    "    assert(transactions[i][0] == transactions[i+1][0])\n",
    "    assert(transactions[i][2] == 'buy')\n",
    "    assert(transactions[i+1][2] == 'sell')\n",
    "    trans_arr.append([stock_id, buy_time, sell_time])"
   ]
  },
  {
   "cell_type": "code",
   "execution_count": null,
   "metadata": {},
   "outputs": [],
   "source": [
    "for tran in trans_arr:\n",
    "    stock_id = tran[0]\n",
    "    start_time = tran[1]\n",
    "    end_time = tran[2]\n",
    "    index_in_range = (all_df[stock_id].index > start_time) & (all_df[stock_id].index <= end_time)\n",
    "    diff = all_df[stock_id].loc[index_in_range, 'diff']\n",
    "    \n",
    "    result_df.loc[diff.index, 'diff'] = diff\n",
    "    "
   ]
  },
  {
   "cell_type": "code",
   "execution_count": null,
   "metadata": {},
   "outputs": [],
   "source": [
    "result_df['diff'] = result_df['diff'].fillna(0)"
   ]
  },
  {
   "cell_type": "code",
   "execution_count": null,
   "metadata": {},
   "outputs": [],
   "source": [
    "result_df['profit'] = (result_df['diff'] + 1).cumprod()\n",
    "omxs['profit'] = (omxs['diff'] + 1).cumprod()"
   ]
  },
  {
   "cell_type": "code",
   "execution_count": null,
   "metadata": {},
   "outputs": [],
   "source": [
    "# remove unecessary records.\n",
    "def should_remove(t):\n",
    "    ts = t.timestamp()\n",
    "    if days == 1:\n",
    "        minutes = 1\n",
    "        return False\n",
    "    elif days == 7:\n",
    "        minutes = 5\n",
    "    elif days == 31:\n",
    "        minutes = 60\n",
    "    return bool(ts % (minutes*60) != 0)\n",
    "\n",
    "\n",
    "def add_column_should_remove(df):\n",
    "    if 'should_remove' in df.columns:\n",
    "        return\n",
    "    df['timestamp'] = df.index\n",
    "    df['should_remove'] = df['timestamp'].apply(should_remove)\n",
    "    return df\n",
    "\n",
    "result_df = add_column_should_remove(result_df)\n",
    "omxs = add_column_should_remove(omxs)"
   ]
  },
  {
   "cell_type": "code",
   "execution_count": null,
   "metadata": {},
   "outputs": [],
   "source": [
    "omxs_filtered = omxs[omxs.should_remove == False][['profit']]\n",
    "result_filtered = result_df[result_df.should_remove == False][['profit']]"
   ]
  },
  {
   "cell_type": "code",
   "execution_count": null,
   "metadata": {},
   "outputs": [],
   "source": [
    "joined = result_filtered.join(omxs_filtered, how='left', rsuffix='_omxs', lsuffix='_result').interpolate(method='linear')"
   ]
  },
  {
   "cell_type": "code",
   "execution_count": null,
   "metadata": {},
   "outputs": [],
   "source": [
    "joined.reset_index(inplace=True)\n",
    "joined.plot(x='timestamp', y=['profit_omxs', 'profit_result'])"
   ]
  },
  {
   "cell_type": "code",
   "execution_count": null,
   "metadata": {},
   "outputs": [],
   "source": []
  }
 ],
 "metadata": {
  "kernelspec": {
   "display_name": "Python 3",
   "language": "python",
   "name": "python3"
  },
  "language_info": {
   "codemirror_mode": {
    "name": "ipython",
    "version": 3
   },
   "file_extension": ".py",
   "mimetype": "text/x-python",
   "name": "python",
   "nbconvert_exporter": "python",
   "pygments_lexer": "ipython3",
   "version": "3.6.8"
  }
 },
 "nbformat": 4,
 "nbformat_minor": 2
}
