{
 "cells": [
  {
   "cell_type": "code",
   "execution_count": 13,
   "metadata": {},
   "outputs": [],
   "source": [
    "import numpy as np\n",
    "from importlib import reload\n",
    "import tradestrategy\n",
    "StrategyModel = tradestrategy.StrategyModel\n",
    "\n",
    "import investmentmodel\n",
    "reload(investmentmodel)\n",
    "InvestmentModel = investmentmodel.InvestmentModel\n",
    "\n",
    "import datamanipulator\n",
    "reload(datamanipulator)\n",
    "\n",
    "import statefullstmmodel\n",
    "reload(statefullstmmodel)\n",
    "\n",
    "\n"
   ]
  },
  {
   "cell_type": "code",
   "execution_count": 14,
   "metadata": {},
   "outputs": [],
   "source": [
    "data = np.load(\"./npy_files/ema20_beta99_5.npy\", allow_pickle=True)"
   ]
  },
  {
   "cell_type": "code",
   "execution_count": 15,
   "metadata": {},
   "outputs": [],
   "source": [
    "input_data = data[:60,6:-5,[-2,-3,-1]]"
   ]
  },
  {
   "cell_type": "code",
   "execution_count": null,
   "metadata": {},
   "outputs": [],
   "source": [
    "strategy_model_list = []\n",
    "for i in range(5):\n",
    "    strategy_model = StrategyModel(n_max_trades_per_day=4, slippage=0.00015, courtage=0, max_iter=100)\n",
    "    strategy_model.optimize(input_data)\n",
    "    strategy_model_list.append(strategy_model)"
   ]
  },
  {
   "cell_type": "code",
   "execution_count": null,
   "metadata": {},
   "outputs": [],
   "source": [
    "investment_model = InvestmentModel('Nordel', 5)\n",
    "investment_model.optimize(strategy_model_list, is_test=False)"
   ]
  },
  {
   "cell_type": "code",
   "execution_count": null,
   "metadata": {},
   "outputs": [],
   "source": []
  }
 ],
 "metadata": {
  "kernelspec": {
   "display_name": "Python 3",
   "language": "python",
   "name": "python3"
  },
  "language_info": {
   "codemirror_mode": {
    "name": "ipython",
    "version": 3
   },
   "file_extension": ".py",
   "mimetype": "text/x-python",
   "name": "python",
   "nbconvert_exporter": "python",
   "pygments_lexer": "ipython3",
   "version": "3.6.7"
  }
 },
 "nbformat": 4,
 "nbformat_minor": 2
}
